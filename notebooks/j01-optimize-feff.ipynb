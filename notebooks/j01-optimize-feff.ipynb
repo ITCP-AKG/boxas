{
 "cells": [
  {
   "cell_type": "code",
   "execution_count": 1,
   "id": "b0b1d13e",
   "metadata": {},
   "outputs": [],
   "source": [
    "%load_ext autoreload\n",
    "%autoreload 2"
   ]
  },
  {
   "cell_type": "code",
   "execution_count": 2,
   "id": "79f61d18",
   "metadata": {},
   "outputs": [],
   "source": [
    "from pathos.pools import ProcessPool as Pool"
   ]
  },
  {
   "cell_type": "code",
   "execution_count": null,
   "id": "71df93e7",
   "metadata": {},
   "outputs": [
    {
     "name": "stderr",
     "output_type": "stream",
     "text": [
      "/home/ra1513/work/codes/bo_xas_github/.venv/lib/python3.12/site-packages/tqdm/auto.py:21: TqdmWarning: IProgress not found. Please update jupyter and ipywidgets. See https://ipywidgets.readthedocs.io/en/stable/user_install.html\n",
      "  from .autonotebook import tqdm as notebook_tqdm\n"
     ]
    }
   ],
   "source": [
    "from boxas.config import get_config\n",
    "from boxas.runners import runner\n",
    "from boxas.loss import LossFn\n",
    "from boxas.xasopt import XASOpt\n",
    "from boxas.utils import header_template\n",
    "from boxas.exp_data import load_spectrum"
   ]
  },
  {
   "cell_type": "code",
   "execution_count": 4,
   "id": "f87a264c",
   "metadata": {},
   "outputs": [],
   "source": [
    "cfg = get_config('cfg_foils.yaml')\n",
    "project_root = cfg['dir']['project_root']"
   ]
  },
  {
   "cell_type": "code",
   "execution_count": 5,
   "id": "ab3aade9",
   "metadata": {},
   "outputs": [],
   "source": [
    "opt_params = ['Vi', 'r_scf', 'r_fms']\n",
    "context = {k:v for k,v in cfg['feff_params'].items() if k in opt_params}\n",
    "metrics = ['l2_norm_dist']#, 'r_factor', 'cosine_sim', 'pearson_corr', 'spearman_corr']\n",
    "\n",
    "template = header_template(cfg, code='feff', region='xanes')\n",
    "\n",
    "def optimize_xas(N, material, compounds, metric):\n",
    "    loss_fn = LossFn(N, metric=metric)\n",
    "\n",
    "    opt = XASOpt(\n",
    "        f\"feff_{material}_{metric}\",\n",
    "        context, \n",
    "        template, \n",
    "        compounds,\n",
    "        runner, \n",
    "        loss_fn\n",
    "    )\n",
    "\n",
    "    best_params = opt.optimize(\n",
    "        n_trials=10,            # increase the number of trials as needed\n",
    "        patience=10,\n",
    "        load_if_exists=True     # Set to True if you want to resume a previous study\n",
    "    )\n",
    "\n",
    "    return best_params\n"
   ]
  },
  {
   "cell_type": "code",
   "execution_count": 6,
   "id": "39725ffc",
   "metadata": {},
   "outputs": [
    {
     "name": "stdout",
     "output_type": "stream",
     "text": [
      "Ni_aps :  8133.0 9233\n"
     ]
    },
    {
     "name": "stderr",
     "output_type": "stream",
     "text": [
      "[I 2025-10-24 11:43:33,459] A new study created in RDB with name: feff_Ni_aps_l2_norm_dist\n",
      "[I 2025-10-24 11:43:54,404] Trial 0 finished with value: 0.0740375690656832 and parameters: {'Vi': 0.8780179853398823, 'r_scf': 4.181571189951193, 'r_fms': 4.168656493975135}. Best is trial 0 with value: 0.0740375690656832.\n",
      "[I 2025-10-24 11:44:56,270] Trial 1 finished with value: 0.07346423819592691 and parameters: {'Vi': 1.8205168315527969, 'r_scf': 4.456640794404011, 'r_fms': 4.122200068562916}. Best is trial 1 with value: 0.07346423819592691.\n",
      "[I 2025-10-24 11:47:01,810] Trial 2 finished with value: 0.03720387386268288 and parameters: {'Vi': 1.2178473940808114, 'r_scf': 4.995359663593065, 'r_fms': 4.849356167896057}. Best is trial 2 with value: 0.03720387386268288.\n",
      "[I 2025-10-24 11:48:02,627] Trial 3 finished with value: 0.07558983579191228 and parameters: {'Vi': 0.7332633035083987, 'r_scf': 4.712739701178788, 'r_fms': 4.035487132518963}. Best is trial 2 with value: 0.03720387386268288.\n",
      "[I 2025-10-24 11:49:22,783] Trial 4 finished with value: 0.05638668608919603 and parameters: {'Vi': 2.219415329656456, 'r_scf': 4.671673199035777, 'r_fms': 4.733333452567536}. Best is trial 2 with value: 0.03720387386268288.\n",
      "[I 2025-10-24 11:50:25,650] Trial 5 finished with value: 0.07871472733173804 and parameters: {'Vi': 2.3933702606117, 'r_scf': 4.751060404493472, 'r_fms': 4.2396565075699435}. Best is trial 2 with value: 0.03720387386268288.\n",
      "[I 2025-10-24 11:51:11,101] Trial 6 finished with value: 0.07062512228713581 and parameters: {'Vi': 2.9016168208228934, 'r_scf': 4.100591248196287, 'r_fms': 4.679906940375637}. Best is trial 2 with value: 0.03720387386268288.\n",
      "[I 2025-10-24 11:51:57,477] Trial 7 finished with value: 0.042140186473874304 and parameters: {'Vi': 1.5711482696651005, 'r_scf': 4.235652799081267, 'r_fms': 4.691486169703278}. Best is trial 2 with value: 0.03720387386268288.\n",
      "[I 2025-10-24 11:53:18,374] Trial 8 finished with value: 0.03699213154997036 and parameters: {'Vi': 0.6504227614974019, 'r_scf': 4.80083598049631, 'r_fms': 4.713345401916119}. Best is trial 8 with value: 0.03699213154997036.\n",
      "[I 2025-10-24 11:54:19,049] Trial 9 finished with value: 0.0871012677014447 and parameters: {'Vi': 0.07046324921647751, 'r_scf': 4.710972528827566, 'r_fms': 4.014933523343957}. Best is trial 8 with value: 0.03699213154997036.\n"
     ]
    },
    {
     "name": "stdout",
     "output_type": "stream",
     "text": [
      "Best trial of feff_Ni_aps_l2_norm_dist: 8\n",
      "Best value: 0.03699213154997036\n",
      "Best parameters: {'Vi': 0.6504227614974019, 'r_scf': 4.80083598049631, 'r_fms': 4.713345401916119}\n"
     ]
    }
   ],
   "source": [
    "for m in ['Ni_aps']:#, 'Fe_aps', 'Pd_bioxas']:\n",
    "\n",
    "    e0 = cfg['exp_data'][m]['energy']['edge']\n",
    "    compounds = cfg['exp_data'][m]['compounds']\n",
    "    N = load_spectrum(\n",
    "        cfg['exp_data'][m], \n",
    "        m\n",
    "    )\n",
    "    \n",
    "    pool = Pool(nodes=6)\n",
    "    results = pool.map(\n",
    "        lambda met: optimize_xas(N, m, compounds, met),\n",
    "        metrics\n",
    "    )\n",
    "\n",
    "    pool.clear()"
   ]
  },
  {
   "cell_type": "code",
   "execution_count": null,
   "id": "e5e5b94e",
   "metadata": {},
   "outputs": [],
   "source": []
  }
 ],
 "metadata": {
  "kernelspec": {
   "display_name": "bayesian-opt-xas",
   "language": "python",
   "name": "python3"
  },
  "language_info": {
   "codemirror_mode": {
    "name": "ipython",
    "version": 3
   },
   "file_extension": ".py",
   "mimetype": "text/x-python",
   "name": "python",
   "nbconvert_exporter": "python",
   "pygments_lexer": "ipython3",
   "version": "3.12.3"
  }
 },
 "nbformat": 4,
 "nbformat_minor": 5
}
