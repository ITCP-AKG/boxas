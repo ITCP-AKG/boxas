{
 "cells": [
  {
   "cell_type": "code",
   "execution_count": 1,
   "id": "b0b1d13e",
   "metadata": {},
   "outputs": [],
   "source": [
    "%load_ext autoreload\n",
    "%autoreload 2\n"
   ]
  },
  {
   "cell_type": "code",
   "execution_count": null,
   "id": "71df93e7",
   "metadata": {},
   "outputs": [
    {
     "name": "stderr",
     "output_type": "stream",
     "text": [
      "/home/ra1513/work/codes/bo_xas_github/.venv/lib/python3.12/site-packages/tqdm/auto.py:21: TqdmWarning: IProgress not found. Please update jupyter and ipywidgets. See https://ipywidgets.readthedocs.io/en/stable/user_install.html\n",
      "  from .autonotebook import tqdm as notebook_tqdm\n"
     ]
    }
   ],
   "source": [
    "from boxas.config import get_config\n",
    "from boxas.latex_tables import build_parameters_table"
   ]
  },
  {
   "cell_type": "code",
   "execution_count": 3,
   "id": "f87a264c",
   "metadata": {},
   "outputs": [],
   "source": [
    "cfg = get_config('cfg_foils.yaml')\n",
    "project_root = cfg['dir']['project_root']\n"
   ]
  },
  {
   "cell_type": "code",
   "execution_count": 4,
   "id": "b8a3a31e",
   "metadata": {},
   "outputs": [
    {
     "name": "stdout",
     "output_type": "stream",
     "text": [
      "\\begin{table}\n",
      "\\centering\n",
      "\\begin{tabular}{lllp{1cm}rr}\n",
      "\\midrule\n",
      " Objective & Sample & Value & $V_i$ & $R_{SCF}$ & $R_{FMS}$ \\\\\n",
      "\\midrule \n",
      "L2 Normalized Distance& Ni APS & 0.031  & 0.95& 7.6& 7.9 \\\\ \n",
      "\\midrule\n",
      "\\end{tabular}\n",
      "\\caption{ FEFF parameters tuned to simulate given sample using different objective functions.\\label{tab:params_feff}}\n",
      "\\end{table}\n",
      "\n"
     ]
    }
   ],
   "source": [
    "\n",
    "opt_params = ['Vi', 'r_scf', 'r_fms']\n",
    "metrics = ['l2_norm_dist']\n",
    "\n",
    "materials = ['Ni_aps']\n",
    "\n",
    "lt = build_parameters_table(cfg, materials, metrics, opt_params)\n",
    "\n",
    "print(lt)\n",
    "\n",
    "# with open(f'{output_dir}/tab_pars_feff.tex', 'w') as f:\n",
    "#     f.write(lt)\n",
    "    "
   ]
  },
  {
   "cell_type": "code",
   "execution_count": null,
   "id": "473377cc",
   "metadata": {},
   "outputs": [],
   "source": []
  }
 ],
 "metadata": {
  "kernelspec": {
   "display_name": "bayesian-opt-xas",
   "language": "python",
   "name": "python3"
  },
  "language_info": {
   "codemirror_mode": {
    "name": "ipython",
    "version": 3
   },
   "file_extension": ".py",
   "mimetype": "text/x-python",
   "name": "python",
   "nbconvert_exporter": "python",
   "pygments_lexer": "ipython3",
   "version": "3.12.3"
  }
 },
 "nbformat": 4,
 "nbformat_minor": 5
}
